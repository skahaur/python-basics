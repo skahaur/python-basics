{
  "nbformat": 4,
  "nbformat_minor": 0,
  "metadata": {
    "colab": {
      "provenance": []
    },
    "kernelspec": {
      "name": "python3",
      "display_name": "Python 3"
    },
    "language_info": {
      "name": "python"
    }
  },
  "cells": [
    {
      "cell_type": "code",
      "execution_count": null,
      "metadata": {
        "id": "JfGJW7ytN6Hs"
      },
      "outputs": [],
      "source": []
    },
    {
      "cell_type": "markdown",
      "source": [
        "Q 1 -What is Python, and why is it popular?\n",
        "\n",
        "- Python is a high-level, interpreted programming language known for its simplicity and readability. It is popular because of its easy-to-learn syntax, extensive libraries,\n"
      ],
      "metadata": {
        "id": "EgEp9FLVOBtV"
      }
    },
    {
      "cell_type": "markdown",
      "source": [
        "Q 2-What is an interpreter in Python?\n",
        "\n",
        "- An interpreter in Python is a program and it's executes Python code line by line."
      ],
      "metadata": {
        "id": "csJPssE-PFVG"
      }
    },
    {
      "cell_type": "markdown",
      "source": [
        "Q 3-What are pre-defined keywords in Python?\n",
        "Ans-\n",
        " if, else, for, while, def, and return these are pre-defined keywords it is not use in variable."
      ],
      "metadata": {
        "id": "dSp1Y5oCPa50"
      }
    },
    {
      "cell_type": "markdown",
      "source": [
        "Q 4-Can keywords be used as variable names?\n",
        "- No, keywords cannot be used as variable names because they have predefined functions in Python.\n",
        "\n"
      ],
      "metadata": {
        "id": "43QXImDxP-ZP"
      }
    },
    {
      "cell_type": "markdown",
      "source": [
        "Q 5-What is mutability in Python?\n",
        "Ans -\n",
        "Mutability refers to whether an object can be changed after creation. Mutable objects can be modified, while immutable objects cannot."
      ],
      "metadata": {
        "id": "1mIsBuecS6qX"
      }
    },
    {
      "cell_type": "markdown",
      "source": [
        "Q 6-Why are lists mutable, but tuples are immutable?\n",
        "- Lists are mutable because their elements can be changed, added, or removed. Tuples are immutable, meaning their elements cannot be changed after creation."
      ],
      "metadata": {
        "id": "aOPCSFp5TG8B"
      }
    },
    {
      "cell_type": "markdown",
      "source": [
        "Q 7-What is the difference between == and is operators in Python?\n",
        "\n",
        "- == checks for value equality\n",
        "\n",
        "is checks for identity"
      ],
      "metadata": {
        "id": "UwQnnU0yQHFb"
      }
    },
    {
      "cell_type": "markdown",
      "source": [
        "Q 8-What are logical operators in Python?\n",
        "- Logical operators include:\n",
        "\n",
        "and ,or & not (thses are logical operator)"
      ],
      "metadata": {
        "id": "jPDRpU0mQU5H"
      }
    },
    {
      "cell_type": "markdown",
      "source": [
        "Q 9-What is type casting in Python?\n",
        "Ans-\n",
        "Type casting is converting a variable from one data type to another data type.\n",
        "\n"
      ],
      "metadata": {
        "id": "8ST30TZ0QxBB"
      }
    },
    {
      "cell_type": "markdown",
      "source": [
        "Q 10-What is the difference between implicit and explicit type casting?\n",
        "- Implicit type casting is automatically done by Python (e.g., int to float).\n",
        "\n",
        "Explicit type casting is manually performed using functions like int(), float(), str()."
      ],
      "metadata": {
        "id": "XaKDmrgRQ8Pu"
      }
    },
    {
      "cell_type": "markdown",
      "source": [
        "Q 11-What is the purpose of conditional statements in Python?\n",
        "- Conditional statements allow decision-making or put the condition for options it occurance in a program based on conditions (e.g., if, elif, else)."
      ],
      "metadata": {
        "id": "zNAladA4RIos"
      }
    },
    {
      "cell_type": "markdown",
      "source": [
        "Q 12-How does the elif statement work?\n",
        "- The elif statement checks multiple conditions and executes the first one that is True."
      ],
      "metadata": {
        "id": "yjHIJmNaThmB"
      }
    },
    {
      "cell_type": "markdown",
      "source": [
        "Q 13-What is the difference between for and while loops?\n",
        "\n",
        "- for loop is used for iterating over a sequence (list, tuple, string).\n",
        "\n",
        "while loop runs as long as a condition remains True.\n",
        "\n"
      ],
      "metadata": {
        "id": "5dYwNBoTRldq"
      }
    },
    {
      "cell_type": "markdown",
      "source": [
        "**Practical Questions**"
      ],
      "metadata": {
        "id": "Z1xxuzxFSVyq"
      }
    },
    {
      "cell_type": "code",
      "source": [
        "#Q 1 Write a Python program to print \"Hello, World!\n",
        "print(\"Hello, World!\")\n"
      ],
      "metadata": {
        "colab": {
          "base_uri": "https://localhost:8080/"
        },
        "id": "VlqI2mHqbhIa",
        "outputId": "5af77c6a-8b87-4f8c-a90c-df56bfb8b02e"
      },
      "execution_count": null,
      "outputs": [
        {
          "output_type": "stream",
          "name": "stdout",
          "text": [
            "Hello, World!\n"
          ]
        }
      ]
    },
    {
      "cell_type": "code",
      "source": [
        "#Q 2 Write a Python program that displays your name and age.\n",
        "name = input(\"Enter your name: \")\n",
        "age = input(\"Enter your age: \")\n",
        "print(\"Name:\", name)\n",
        "print(\"Age:\", age)\n"
      ],
      "metadata": {
        "colab": {
          "base_uri": "https://localhost:8080/"
        },
        "id": "b2c2KMuXbzSm",
        "outputId": "b1c06464-9e93-4f49-9eb6-11bea85d3285"
      },
      "execution_count": null,
      "outputs": [
        {
          "output_type": "stream",
          "name": "stdout",
          "text": [
            "Enter your name: SANDEEP KUMAR SAH\n",
            "Enter your age: 26\n",
            "Name: SANDEEP KUMAR SAH\n",
            "Age: 26\n"
          ]
        }
      ]
    },
    {
      "cell_type": "code",
      "source": [
        "# Q 3 Write code to print all the pre-defined keywords in Python using the keyword library.\n",
        "import keyword\n",
        "print(keyword.kwlist)"
      ],
      "metadata": {
        "colab": {
          "base_uri": "https://localhost:8080/"
        },
        "id": "QD7hHV-zcE2q",
        "outputId": "4548c7e4-bfdd-456c-d864-8be39f83b688"
      },
      "execution_count": null,
      "outputs": [
        {
          "output_type": "stream",
          "name": "stdout",
          "text": [
            "['False', 'None', 'True', 'and', 'as', 'assert', 'async', 'await', 'break', 'class', 'continue', 'def', 'del', 'elif', 'else', 'except', 'finally', 'for', 'from', 'global', 'if', 'import', 'in', 'is', 'lambda', 'nonlocal', 'not', 'or', 'pass', 'raise', 'return', 'try', 'while', 'with', 'yield']\n"
          ]
        }
      ]
    },
    {
      "cell_type": "code",
      "source": [
        "#Q 4 Write a program that checks if a given word is a Python keyword.\n",
        "import keyword\n",
        "word = input(\"Enter a word: \")\n",
        "if keyword.iskeyword(word):\n",
        "    print(word, \"is a Python keyword.\")\n",
        "else:\n",
        "    print(word, \"is not a Python keyword.\")"
      ],
      "metadata": {
        "colab": {
          "base_uri": "https://localhost:8080/"
        },
        "id": "v-jrCiJvcSlh",
        "outputId": "a063e335-f86c-43db-b888-a947c5cd9877"
      },
      "execution_count": null,
      "outputs": [
        {
          "output_type": "stream",
          "name": "stdout",
          "text": [
            "Enter a word: TRUE\n",
            "TRUE is not a Python keyword.\n"
          ]
        }
      ]
    },
    {
      "cell_type": "code",
      "source": [
        "#Q 5 Create a list and tuple in Python, and demonstrate how attempting to change an element works differently\n",
        "#for each.\n",
        "\n",
        "# For list\n",
        "my_list = [1, 2, 3]\n",
        "my_list[0] = 10\n",
        "print(my_list)\n",
        "\n",
        "\n"
      ],
      "metadata": {
        "colab": {
          "base_uri": "https://localhost:8080/"
        },
        "id": "Off6gbzpnTbG",
        "outputId": "21eab1a8-f8b9-4ed8-91bd-5fb9e7fec941"
      },
      "execution_count": null,
      "outputs": [
        {
          "output_type": "stream",
          "name": "stdout",
          "text": [
            "[10, 2, 3]\n"
          ]
        }
      ]
    },
    {
      "cell_type": "code",
      "source": [
        "# for tuple\n",
        "my_tuple = (1, 2, 3)\n",
        "a = list(my_tuple)\n",
        "a[1] = 5\n",
        "my_tuple = tuple(a)\n",
        "print(my_tuple)"
      ],
      "metadata": {
        "colab": {
          "base_uri": "https://localhost:8080/"
        },
        "id": "e3Kl9iq6n5JA",
        "outputId": "dee289a9-07b2-4e99-d3c0-625b22ee665a"
      },
      "execution_count": null,
      "outputs": [
        {
          "output_type": "stream",
          "name": "stdout",
          "text": [
            "(1, 5, 3)\n"
          ]
        }
      ]
    },
    {
      "cell_type": "code",
      "source": [
        "# Q  6 Write a function to demonstrate the behavior of mutable and immutable arguments.(quastion 6 & 7 both are same.)\n",
        "# a. MUtable behavior of a list like:\n",
        "my_list = [1, 2, 3]\n",
        "my_list[0] = 10\n",
        "print(my_list)\n",
        "\n",
        "# b. immutable behavior of tuple\n",
        "my_tuple = (1, 2, 3)\n",
        "my_tuple[1] = 5    # here immutablity show by tuple\n",
        "print(my_tuple)"
      ],
      "metadata": {
        "colab": {
          "base_uri": "https://localhost:8080/",
          "height": 219
        },
        "id": "QQEZmkmcoWh-",
        "outputId": "d8ba4501-48bf-4482-fa44-863121df2c05"
      },
      "execution_count": null,
      "outputs": [
        {
          "output_type": "stream",
          "name": "stdout",
          "text": [
            "[10, 2, 3]\n"
          ]
        },
        {
          "output_type": "error",
          "ename": "TypeError",
          "evalue": "'tuple' object does not support item assignment",
          "traceback": [
            "\u001b[0;31m---------------------------------------------------------------------------\u001b[0m",
            "\u001b[0;31mTypeError\u001b[0m                                 Traceback (most recent call last)",
            "\u001b[0;32m<ipython-input-15-fead5a3bbcc7>\u001b[0m in \u001b[0;36m<cell line: 0>\u001b[0;34m()\u001b[0m\n\u001b[1;32m      7\u001b[0m \u001b[0;31m# b. immutable behavior of tuple\u001b[0m\u001b[0;34m\u001b[0m\u001b[0;34m\u001b[0m\u001b[0m\n\u001b[1;32m      8\u001b[0m \u001b[0mmy_tuple\u001b[0m \u001b[0;34m=\u001b[0m \u001b[0;34m(\u001b[0m\u001b[0;36m1\u001b[0m\u001b[0;34m,\u001b[0m \u001b[0;36m2\u001b[0m\u001b[0;34m,\u001b[0m \u001b[0;36m3\u001b[0m\u001b[0;34m)\u001b[0m\u001b[0;34m\u001b[0m\u001b[0;34m\u001b[0m\u001b[0m\n\u001b[0;32m----> 9\u001b[0;31m \u001b[0mmy_tuple\u001b[0m\u001b[0;34m[\u001b[0m\u001b[0;36m1\u001b[0m\u001b[0;34m]\u001b[0m \u001b[0;34m=\u001b[0m \u001b[0;36m5\u001b[0m\u001b[0;34m\u001b[0m\u001b[0;34m\u001b[0m\u001b[0m\n\u001b[0m\u001b[1;32m     10\u001b[0m \u001b[0mprint\u001b[0m\u001b[0;34m(\u001b[0m\u001b[0mmy_tuple\u001b[0m\u001b[0;34m)\u001b[0m\u001b[0;34m\u001b[0m\u001b[0;34m\u001b[0m\u001b[0m\n",
            "\u001b[0;31mTypeError\u001b[0m: 'tuple' object does not support item assignment"
          ]
        }
      ]
    },
    {
      "cell_type": "code",
      "source": [
        "# Q 8 Write a program to demonstrate the use of logical operators.\n",
        "a,b = True , False\n",
        "print(a and b)\n",
        "print(a or b)\n",
        "print(not a)"
      ],
      "metadata": {
        "colab": {
          "base_uri": "https://localhost:8080/"
        },
        "id": "uq1YkaGsp2pD",
        "outputId": "f5ada699-42ef-4fa4-bc0a-f653f5ef8077"
      },
      "execution_count": null,
      "outputs": [
        {
          "output_type": "stream",
          "name": "stdout",
          "text": [
            "False\n",
            "True\n",
            "False\n"
          ]
        }
      ]
    },
    {
      "cell_type": "code",
      "source": [
        "# Q 9 Write a Python program to convert user input from string to integer, float, and boolean type.\n",
        "\n",
        "\n",
        "number = str(input(\" enter your marks: \"))\n",
        "print( number)"
      ],
      "metadata": {
        "colab": {
          "base_uri": "https://localhost:8080/"
        },
        "id": "qQm_rdoOqwMR",
        "outputId": "1d35408a-15fe-4e33-8609-00ce9f26d96d"
      },
      "execution_count": null,
      "outputs": [
        {
          "output_type": "stream",
          "name": "stdout",
          "text": [
            " enter your marks: 36\n",
            "36\n"
          ]
        }
      ]
    },
    {
      "cell_type": "code",
      "source": [
        "number = float(input(\" enter your marks: \"))\n",
        "print( number)"
      ],
      "metadata": {
        "colab": {
          "base_uri": "https://localhost:8080/"
        },
        "id": "4lh8_1iJtA8M",
        "outputId": "362aaa70-a4b3-4cef-9baa-49ef12d08a12"
      },
      "execution_count": null,
      "outputs": [
        {
          "output_type": "stream",
          "name": "stdout",
          "text": [
            " enter your marks: 25\n",
            "25.0\n"
          ]
        }
      ]
    },
    {
      "cell_type": "code",
      "source": [
        "number = bool(input(\" enter your marks: \"))\n",
        "print( number)"
      ],
      "metadata": {
        "colab": {
          "base_uri": "https://localhost:8080/"
        },
        "id": "LL8K-XQEtFP2",
        "outputId": "ae3f7a66-d2b7-4d25-95b1-bdf9e3215e2f"
      },
      "execution_count": null,
      "outputs": [
        {
          "output_type": "stream",
          "name": "stdout",
          "text": [
            " enter your marks: 5\n",
            "True\n"
          ]
        }
      ]
    },
    {
      "cell_type": "code",
      "source": [
        "# 10 Write code to demonstrate type casting with list elements.\n"
      ],
      "metadata": {
        "id": "z-5UKoqVtJ3z"
      },
      "execution_count": null,
      "outputs": []
    },
    {
      "cell_type": "code",
      "source": [
        "#Q 11 Write a program that checks if a number is positive, negative, or zero.\n",
        "number = int(input(\"Enter a number: \"))\n",
        "if number > 0:\n",
        "  print(number,\"this is positive number\")\n",
        "elif number < 0:\n",
        "  print(number,\"this is negative number\")\n",
        "else:\n",
        "  print(\"this is zero\")"
      ],
      "metadata": {
        "colab": {
          "base_uri": "https://localhost:8080/"
        },
        "id": "7Tm7H218tnbe",
        "outputId": "4d24d589-3a91-419a-a97d-788ac4a30985"
      },
      "execution_count": null,
      "outputs": [
        {
          "output_type": "stream",
          "name": "stdout",
          "text": [
            "Enter a number: 00\n",
            "this is zero\n"
          ]
        }
      ]
    },
    {
      "cell_type": "code",
      "source": [
        "# Q 12  Write a for loop to print numbers from 1 to 10.\n",
        "\n",
        "for i in range(1,11):\n",
        "  print(i,end=\" \")"
      ],
      "metadata": {
        "colab": {
          "base_uri": "https://localhost:8080/"
        },
        "id": "caji1xe0vkRD",
        "outputId": "389b5142-ec4e-4633-dec2-c3c077c2697a"
      },
      "execution_count": null,
      "outputs": [
        {
          "output_type": "stream",
          "name": "stdout",
          "text": [
            "1 2 3 4 5 6 7 8 9 10 "
          ]
        }
      ]
    },
    {
      "cell_type": "code",
      "source": [
        "# Q 13 Write a Python program to find the sum of all even numbers between 1 and 50.\n",
        "print(sum(i for i in range(1, 51) if i % 2 == 0))"
      ],
      "metadata": {
        "colab": {
          "base_uri": "https://localhost:8080/"
        },
        "id": "HektDtGjv-xv",
        "outputId": "eee2a834-db5f-4688-ddc0-a1745f627a6b"
      },
      "execution_count": 4,
      "outputs": [
        {
          "output_type": "stream",
          "name": "stdout",
          "text": [
            "650\n"
          ]
        }
      ]
    },
    {
      "cell_type": "code",
      "source": [
        "#Q 14 : Write a program to reverse a string using a while loop.\n",
        "\n",
        "text = input(\"Enter a string: \")\n",
        "reversed_text = \"\"\n",
        "i = len(text) - 1\n",
        "while i >= 0:\n",
        "    reversed_text += text[i]\n",
        "    i = i - 1\n",
        "print(reversed_text)\n"
      ],
      "metadata": {
        "colab": {
          "base_uri": "https://localhost:8080/"
        },
        "id": "q4DVzQQE0oyJ",
        "outputId": "abdb76d2-0cbf-4b72-b918-f5088445c05d"
      },
      "execution_count": 1,
      "outputs": [
        {
          "output_type": "stream",
          "name": "stdout",
          "text": [
            "Enter a string: 58\n",
            "85\n"
          ]
        }
      ]
    },
    {
      "cell_type": "code",
      "source": [
        "# Q 15. Write a Python program to calculate the factorial of a number provided by the user using a while loop\n",
        "num = int(input(\"Enter a number: \"))\n",
        "factorial = 1\n",
        "i = num\n",
        "while i > 0:\n",
        "    factorial *= i\n",
        "    i -= 1\n",
        "print(f\"The factorial of {num} is {factorial}\")\n"
      ],
      "metadata": {
        "id": "QyfPzyCrzMW-",
        "colab": {
          "base_uri": "https://localhost:8080/"
        },
        "outputId": "66761838-b564-40d9-f748-3f6a3ba75499"
      },
      "execution_count": 5,
      "outputs": [
        {
          "output_type": "stream",
          "name": "stdout",
          "text": [
            "Enter a number: 3\n",
            "The factorial of 3 is 6\n"
          ]
        }
      ]
    }
  ]
}